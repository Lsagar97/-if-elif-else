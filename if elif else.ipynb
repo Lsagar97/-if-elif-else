{
 "cells": [
  {
   "cell_type": "code",
   "execution_count": 2,
   "id": "9b03b01c",
   "metadata": {},
   "outputs": [],
   "source": [
    "a=10\n",
    "if a == 11:\n",
    "    print(\"this is my first condition\")   "
   ]
  },
  {
   "cell_type": "code",
   "execution_count": 3,
   "id": "9a71294d",
   "metadata": {},
   "outputs": [],
   "source": [
    "a=10\n",
    "if a>5 :\n",
    "    pass\n",
    "    "
   ]
  },
  {
   "cell_type": "code",
   "execution_count": 4,
   "id": "ce82aaf6",
   "metadata": {},
   "outputs": [],
   "source": [
    "a=10\n",
    "if a <8:\n",
    "    print(\"print this if condition is true\")"
   ]
  },
  {
   "cell_type": "code",
   "execution_count": 5,
   "id": "18562c5e",
   "metadata": {},
   "outputs": [
    {
     "name": "stdout",
     "output_type": "stream",
     "text": [
      "pritn this if condition\n"
     ]
    }
   ],
   "source": [
    "a=10\n",
    "if a>8:\n",
    "    print(\"pritn this if condition\")"
   ]
  },
  {
   "cell_type": "code",
   "execution_count": 6,
   "id": "610a2238",
   "metadata": {},
   "outputs": [
    {
     "name": "stdout",
     "output_type": "stream",
     "text": [
      "print this\n"
     ]
    }
   ],
   "source": [
    "a=10\n",
    "if a==11:\n",
    "    print(\"my condition is false\")\n",
    "else:\n",
    "     print(\"print this\")"
   ]
  },
  {
   "cell_type": "code",
   "execution_count": 7,
   "id": "22e37c2e",
   "metadata": {},
   "outputs": [
    {
     "name": "stdout",
     "output_type": "stream",
     "text": [
      " we are trying to compare 10 with 11\n"
     ]
    }
   ],
   "source": [
    "a=10\n",
    "if a== 12:\n",
    "    print(\"here we are trying to compare 10 with 12\")\n",
    "elif a == 10:\n",
    "    print(\" we are trying to compare 10 with 11\")\n",
    "else :\n",
    "    print(\"if all the blocks will fail then do this\")\n",
    "    "
   ]
  },
  {
   "cell_type": "code",
   "execution_count": 8,
   "id": "a901532c",
   "metadata": {},
   "outputs": [
    {
     "name": "stdout",
     "output_type": "stream",
     "text": [
      "i will be able to buy the jacket\n"
     ]
    }
   ],
   "source": [
    "price=500\n",
    "if price > 500:\n",
    "    print (\"may i wont be able to buy a juckeet\")\n",
    "elif price <= 500:\n",
    "    print(\"i will be able to buy the jacket\")\n",
    "elif price == 500:\n",
    "    print(\"for sure i will be able to buy\")\n",
    "else:\n",
    "    print(\"dont know\")"
   ]
  },
  {
   "cell_type": "code",
   "execution_count": 9,
   "id": "fa713769",
   "metadata": {},
   "outputs": [
    {
     "data": {
      "text/plain": [
       "False"
      ]
     },
     "execution_count": 9,
     "metadata": {},
     "output_type": "execute_result"
    }
   ],
   "source": [
    "price > 500"
   ]
  },
  {
   "cell_type": "code",
   "execution_count": 10,
   "id": "f475cd32",
   "metadata": {},
   "outputs": [
    {
     "data": {
      "text/plain": [
       "False"
      ]
     },
     "execution_count": 10,
     "metadata": {},
     "output_type": "execute_result"
    }
   ],
   "source": [
    "price <500"
   ]
  },
  {
   "cell_type": "code",
   "execution_count": 11,
   "id": "22b2a8b9",
   "metadata": {},
   "outputs": [
    {
     "data": {
      "text/plain": [
       "True"
      ]
     },
     "execution_count": 11,
     "metadata": {},
     "output_type": "execute_result"
    }
   ],
   "source": [
    "price ==500"
   ]
  },
  {
   "cell_type": "code",
   "execution_count": 12,
   "id": "59811f93",
   "metadata": {},
   "outputs": [
    {
     "data": {
      "text/plain": [
       "True"
      ]
     },
     "execution_count": 12,
     "metadata": {},
     "output_type": "execute_result"
    }
   ],
   "source": [
    "l = [1,2,3,4,5,6]\n",
    "2 in l"
   ]
  },
  {
   "cell_type": "code",
   "execution_count": 13,
   "id": "aefb8355",
   "metadata": {},
   "outputs": [
    {
     "name": "stdout",
     "output_type": "stream",
     "text": [
      "do not perform this task\n"
     ]
    }
   ],
   "source": [
    "if 60 in l:\n",
    "    print (\"try to perform task\")\n",
    "else:\n",
    "    print(\"do not perform this task\")"
   ]
  },
  {
   "cell_type": "code",
   "execution_count": 14,
   "id": "d3997a74",
   "metadata": {},
   "outputs": [
    {
     "data": {
      "text/plain": [
       "False"
      ]
     },
     "execution_count": 14,
     "metadata": {},
     "output_type": "execute_result"
    }
   ],
   "source": [
    "60 in l"
   ]
  },
  {
   "cell_type": "code",
   "execution_count": 15,
   "id": "17afe010",
   "metadata": {},
   "outputs": [
    {
     "name": "stdout",
     "output_type": "stream",
     "text": [
      "try to do sub\n",
      "this is new statement\n"
     ]
    }
   ],
   "source": [
    "if 10 in l:\n",
    "    print(\"then try to do addition\")\n",
    "elif 2 in l:\n",
    "    print(\"try to do sub\")\n",
    "elif 3 in l:\n",
    "    print(\"try to do mul\")\n",
    "if 4 in l:\n",
    "    print(\"this is new statement\")"
   ]
  },
  {
   "cell_type": "code",
   "execution_count": 16,
   "id": "e977d7a0",
   "metadata": {},
   "outputs": [],
   "source": [
    "a=400"
   ]
  },
  {
   "cell_type": "code",
   "execution_count": null,
   "id": "341dd74e",
   "metadata": {},
   "outputs": [],
   "source": [
    "b = int(input())"
   ]
  },
  {
   "cell_type": "code",
   "execution_count": null,
   "id": "d622a629",
   "metadata": {},
   "outputs": [],
   "source": [
    "b"
   ]
  },
  {
   "cell_type": "code",
   "execution_count": null,
   "id": "a9815745",
   "metadata": {},
   "outputs": [],
   "source": [
    "type(b)"
   ]
  },
  {
   "cell_type": "code",
   "execution_count": null,
   "id": "a196279c",
   "metadata": {},
   "outputs": [],
   "source": [
    "price = int(input())\n",
    "if price<500:\n",
    "    print(\"i wil be able to buy something\")\n",
    "    if price < 400:\n",
    "        print(\"i will be able to buy the jacket\")\n",
    "    elif price <300:\n",
    "        print(\"i will be able to buy shirt\")\n",
    "        if price < 200:\n",
    "            print(\"i would like to do something\")\n",
    "    else:\n",
    "        print(\"i wont be able to buy anything\")\n",
    "else :\n",
    "    print(\"i wont be abel to buy anything with this price tag\")\n",
    "    if price > 500:\n",
    "        print(\"lets try differnt\")\n",
    "            "
   ]
  },
  {
   "cell_type": "code",
   "execution_count": null,
   "id": "dfa32ab6",
   "metadata": {},
   "outputs": [],
   "source": [
    "marks=int(input())\n",
    "if marks < 600:\n",
    "    print(\" no gre\")\n",
    "    if marks <500:\n",
    "        print(\"take admission in toffel\")\n",
    "        if marks <400:\n",
    "            print(\"try something else\")\n",
    "    else:\n",
    "            print(\"you got toffel\")\n",
    "\n",
    "else :\n",
    "    print(\"GRE\")\n"
   ]
  },
  {
   "cell_type": "code",
   "execution_count": null,
   "id": "ca566c22",
   "metadata": {},
   "outputs": [],
   "source": [
    " val = float(input(\"entr a float number\"))\n",
    "if val >=0:\n",
    "    if val ==0:\n",
    "        print(\"enter value is zero\")\n",
    "    else:\n",
    "        print(\"enterd value is a postive num \")\n",
    "else :\n",
    "    print(\"enterd value is negetive\")"
   ]
  },
  {
   "cell_type": "code",
   "execution_count": null,
   "id": "e3bb8dd0",
   "metadata": {},
   "outputs": [],
   "source": [
    "a = int(input(\n",
    "'number a='))\n",
    "b = int(input('number b='))\n",
    "c = int(input('number c='))\n",
    "if a>=0:\n",
    "    pass\n",
    "    if a >=40:\n",
    "        print('a swapped by b=',b)\n",
    "        \n",
    "        if b>= 20:\n",
    "            print('b swapped by c=',c)\n",
    "            if c >=10:\n",
    "                 print('c swapped by a=',a)\n",
    "else:\n",
    "    print(\"number is negetive\")\n"
   ]
  },
  {
   "cell_type": "code",
   "execution_count": null,
   "id": "e30cceab",
   "metadata": {},
   "outputs": [],
   "source": [
    "##my own above"
   ]
  },
  {
   "cell_type": "code",
   "execution_count": null,
   "id": "6adeb86d",
   "metadata": {},
   "outputs": [],
   "source": [
    "a = 10 \n",
    "if a <10 and a==10:\n",
    "    print(\"try to do something\")\n",
    "    "
   ]
  },
  {
   "cell_type": "code",
   "execution_count": null,
   "id": "bd136d24",
   "metadata": {},
   "outputs": [],
   "source": [
    "a= \"liki\"\n",
    "if a == \"liki\" and a==\"liki\":\n",
    "    print(\"this is liki\")"
   ]
  },
  {
   "cell_type": "code",
   "execution_count": null,
   "id": "c6699ab3",
   "metadata": {},
   "outputs": [],
   "source": [
    "a=10\n",
    "b=11\n",
    "c=12\n",
    "d=13\n",
    "if a==9 or b==11 and c==12 and d==13:\n",
    "    print(\"lets do it\")"
   ]
  },
  {
   "cell_type": "code",
   "execution_count": 46,
   "id": "184d6fa1",
   "metadata": {},
   "outputs": [],
   "source": [
    "d = {'key1': \"value\", \"key2\" : \"liki\",\"key3\":\"study\"}"
   ]
  },
  {
   "cell_type": "code",
   "execution_count": 47,
   "id": "1375bf1e",
   "metadata": {},
   "outputs": [
    {
     "name": "stdout",
     "output_type": "stream",
     "text": [
      "all the values are verified\n",
      "dict_values(['value', 'liki', 'study'])\n"
     ]
    }
   ],
   "source": [
    "if  d['key1'] == \"value\" and d['key2'] == \"liki\" and d['key3']==\"study\":\n",
    "         print(\"all the values are verified\")\n",
    "         print(d.values())\n",
    "else:\n",
    "    print(\"all the values are not verified\")"
   ]
  },
  {
   "cell_type": "code",
   "execution_count": 48,
   "id": "79ebaa34",
   "metadata": {},
   "outputs": [],
   "source": [
    "l=[1,2,3,4,5,\"liki\",234.56]\n"
   ]
  },
  {
   "cell_type": "code",
   "execution_count": 65,
   "id": "afb5b232",
   "metadata": {},
   "outputs": [
    {
     "name": "stdout",
     "output_type": "stream",
     "text": [
      "dict_values(['value', 'liki', 'study'])\n"
     ]
    }
   ],
   "source": [
    "print(d.values())\n",
    "\n"
   ]
  },
  {
   "cell_type": "markdown",
   "id": "b6b49c28",
   "metadata": {},
   "source": [
    "# "
   ]
  },
  {
   "cell_type": "code",
   "execution_count": 12,
   "id": "0d658711",
   "metadata": {},
   "outputs": [
    {
     "data": {
      "text/plain": [
       "2"
      ]
     },
     "execution_count": 12,
     "metadata": {},
     "output_type": "execute_result"
    }
   ],
   "source": [
    "l[1]"
   ]
  },
  {
   "cell_type": "code",
   "execution_count": 32,
   "id": "9e088ee4",
   "metadata": {},
   "outputs": [
    {
     "name": "stdout",
     "output_type": "stream",
     "text": [
      "2\n",
      "3\n",
      "4\n",
      "5\n",
      "6\n",
      "liki1\n",
      "235.56\n"
     ]
    }
   ],
   "source": [
    "for i in l:\n",
    "    if type(i)==int or type(i)==float:\n",
    "        print(i+1)\n",
    "    elif type(i)==str:\n",
    "        print(i+\"1\")\n",
    "        \n",
    " \n",
    "    "
   ]
  },
  {
   "cell_type": "code",
   "execution_count": 22,
   "id": "c126f554",
   "metadata": {},
   "outputs": [],
   "source": [
    "a = [9, 8,7,6,5,4,3,2,10]"
   ]
  },
  {
   "cell_type": "code",
   "execution_count": 28,
   "id": "34e57ee0",
   "metadata": {},
   "outputs": [
    {
     "name": "stdout",
     "output_type": "stream",
     "text": [
      "9\n",
      "8\n",
      "7\n",
      "6\n",
      "5\n",
      "4\n",
      "3\n",
      "2\n",
      "10\n"
     ]
    }
   ],
   "source": [
    "for i in a:\n",
    "    print(i)"
   ]
  },
  {
   "cell_type": "code",
   "execution_count": 29,
   "id": "79a7e8e6",
   "metadata": {},
   "outputs": [
    {
     "data": {
      "text/plain": [
       "[1, 2, 3, 4, 5, 'liki', 234.56]"
      ]
     },
     "execution_count": 29,
     "metadata": {},
     "output_type": "execute_result"
    }
   ],
   "source": [
    "l"
   ]
  },
  {
   "cell_type": "code",
   "execution_count": 30,
   "id": "e23f56c9",
   "metadata": {},
   "outputs": [],
   "source": [
    "l1=[]\n",
    "for i in l:\n",
    "    if type(i)==int:\n",
    "        l1.append(i)"
   ]
  },
  {
   "cell_type": "code",
   "execution_count": 31,
   "id": "b198c21d",
   "metadata": {},
   "outputs": [
    {
     "data": {
      "text/plain": [
       "[1, 2, 3, 4, 5]"
      ]
     },
     "execution_count": 31,
     "metadata": {},
     "output_type": "execute_result"
    }
   ],
   "source": [
    "l1"
   ]
  },
  {
   "cell_type": "code",
   "execution_count": null,
   "id": "cad4fab2",
   "metadata": {},
   "outputs": [],
   "source": []
  }
 ],
 "metadata": {
  "kernelspec": {
   "display_name": "Python 3 (ipykernel)",
   "language": "python",
   "name": "python3"
  },
  "language_info": {
   "codemirror_mode": {
    "name": "ipython",
    "version": 3
   },
   "file_extension": ".py",
   "mimetype": "text/x-python",
   "name": "python",
   "nbconvert_exporter": "python",
   "pygments_lexer": "ipython3",
   "version": "3.9.12"
  }
 },
 "nbformat": 4,
 "nbformat_minor": 5
}
